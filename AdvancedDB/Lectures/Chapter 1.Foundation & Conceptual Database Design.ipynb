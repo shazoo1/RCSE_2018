{
 "cells": [
  {
   "cell_type": "markdown",
   "metadata": {
    "collapsed": true
   },
   "source": [
    "Databases today are essential to every business.\n",
    "\n",
    "The power of databases:\n",
    "- Comes from a body of knowledge and technology that has developed over several decades\n",
    "- is embodied in a specialized software package"
   ]
  },
  {
   "cell_type": "markdown",
   "metadata": {},
   "source": [
    "Database and communication between the nodes - **core components** of the most complex networked systems."
   ]
  },
  {
   "cell_type": "markdown",
   "metadata": {},
   "source": [
    "## 1. What is a Database System?"
   ]
  },
  {
   "cell_type": "markdown",
   "metadata": {},
   "source": [
    "A **Database system** (DBS) consists of a **Database** (DB) and a **Database Management System** (DBMS).\n",
    "\n",
    "- A Database is a (typically very large) integrated collection of interrelated data which are stored in files.\n",
    "    * Data describe information and activites about one or more related organizations (part of the real world).\n",
    "- A Database Management System\n",
    "    * is a collection of software packages designed to store, access, and manage databases.\n",
    "    * It provides users and applications with an environment that is convenient and efficient to use."
   ]
  },
  {
   "cell_type": "markdown",
   "metadata": {},
   "source": [
    "![alt](Pictures\\1_1.png)"
   ]
  },
  {
   "cell_type": "markdown",
   "metadata": {},
   "source": [
    "## 2. Purpose of a Database System"
   ]
  },
  {
   "cell_type": "markdown",
   "metadata": {},
   "source": [
    "- **Data integration** - All data are uniformly managed.\n",
    "- **Efficient Data Access** - Database languages are provided to store, access and manage data.\n",
    "- **Data Dictionary** - Contains all data about objects and structures of the database (metadata)\n",
    "- **User/Application-Views** - Different views for different users and applications\n",
    "- **Integrity Constraints** - are enforced by the DBMS\n",
    "- **Security Mechanisms** - to protect data from security threats\n",
    "- **Transactions** - combine sets of operations on data into logical units\n",
    "- **Synchronization** of current user transactions\n",
    "- **Recovery** of data after system crach\n",
    "- **ad-hoc** queries, report generation, interfaces to other database systems, interfaces for application programming"
   ]
  },
  {
   "cell_type": "markdown",
   "metadata": {},
   "source": [
    "## 3. History of Relational Database Systems"
   ]
  },
  {
   "cell_type": "markdown",
   "metadata": {},
   "source": [
    "- 1970: Ted Codd(IBM) - relational model as conceptual foundation of relational DBS\n",
    "- 1974: System R(IBM) - first prototype of a RDBMS\n",
    "    - only two modules: RDS (optimizing SQl processor), RSS (access method);\n",
    "      approx. 80.000 Lines of Code (PL/I, PL/S, Assembler), approx. 1.2MB code size\n",
    "    - query language SEQUEL\n",
    "    - first installation 1977\n",
    "- 1975: University of California at Berkeley (UCB) - Ingres\n",
    "    - query language QUEL\n",
    "    - predecessor of Postgres, Sybase,...\n",
    "- 1979: Oracle Version 2\n",
    "- Today: 24 Bill $ market"
   ]
  },
  {
   "cell_type": "markdown",
   "metadata": {},
   "source": [
    "## 4. Different Views of Data"
   ]
  },
  {
   "cell_type": "markdown",
   "metadata": {},
   "source": [
    "A major purpose of a DBMS is to provide uses with an abstract view of data, i.e. it hides details of how data are stored and maintained on a computer."
   ]
  },
  {
   "cell_type": "markdown",
   "metadata": {},
   "source": [
    "![alt](Pictures\\1_2.png)"
   ]
  },
  {
   "cell_type": "markdown",
   "metadata": {},
   "source": [
    "-  **Physical Level**\n",
    "Describes how data records are actually stored and how files and indexes are organized and used\n",
    "\n",
    "-  **Logical Level**\n",
    "Sometimes also called **Conceptual Level**, describes what data are stored in the DBS in terms of entitites and relationships;\n",
    "Emplahsis on logical structure of the database\n",
    "\n",
    "-  **View Level**\n",
    "Describes how users and applications see the data.\n",
    "\n",
    "\n",
    "Abstraction is achieved by describing each level in terms of a **database schema**, which, in turn, is based on a data model.\n"
   ]
  },
  {
   "cell_type": "markdown",
   "metadata": {},
   "source": [
    "## 5. Data Models, Schemes, and Instances"
   ]
  },
  {
   "cell_type": "markdown",
   "metadata": {},
   "source": [
    "A **Data Model** is a collection of concepts for describing\n",
    "- data and relationships among data\n",
    "- data semantics and data constraints\n",
    "    \n",
    "Object-Based logical Models:\n",
    "- Entity-Relationship (ER) Model\n",
    "- Object-Oriented (OO) Model\n",
    "\n",
    "Record-Based logical Models\n",
    "- Relational Model\n",
    "- Network Model\n",
    "- Hierarchical Model"
   ]
  },
  {
   "cell_type": "markdown",
   "metadata": {},
   "source": [
    "A database **schema** is a descriptions of a particular collection of data, using a given data **model**.\n",
    "\n",
    "An **instance** of a database schema is the actual content of the database at a particular point in time.\n",
    "\n",
    "Schemas exist at dfferent levels of abstraction:\n",
    "1. **Physical Schema**: storage structures associated with relations\n",
    "2. **Conceptual (Logical) Schema**: typically builds the basis for designing a database.\n",
    "3. **View (External) Schemas**: typically determinated during requirements analysis (often require integration into one conceptual schema)"
   ]
  },
  {
   "cell_type": "markdown",
   "metadata": {},
   "source": [
    "## 5.1 Data independence\n",
    "\n",
    "Ability to modify definition os schema at one level without affecting a schema definition at a higher level.\n",
    "\n",
    "Achieved through the use of three levels of data abstraction (also called **three level schema architecture**):\n",
    "- Logical Data Independence: ability to modify logical schema without causing application programs to be rewritten.\n",
    "- Physical Data Independence: ability to modify physical schema without causing logical schema or applications to be rewritten (occasionally necessary to improve performance)"
   ]
  },
  {
   "cell_type": "markdown",
   "metadata": {},
   "source": [
    "![alt](Pictures\\1_3.png)"
   ]
  },
  {
   "cell_type": "markdown",
   "metadata": {},
   "source": [
    "## 6. Database Languages"
   ]
  },
  {
   "cell_type": "markdown",
   "metadata": {},
   "source": [
    "A Databse Management System (DMBS) offers two different types of languages (for the user):\n",
    "\n",
    "### 6.1 Data Definition Language (DDL)\n",
    "Specification language (notation) for defining a database schema; includes syntax and semantics.\n",
    "\n",
    "DDL compiler generates set of tables stored in the DBMS's data dictionary (contains metadata, i.e. data about data)\n",
    "\n",
    "Data storage and definition language - special type of DDL in which storage structures and access methods used by the DBS are specified.\n",
    "\n",
    "\n",
    "### 6.2. Data Manipulation Language (DML)\n",
    "Language for **accessing** and **manipulating** the data that is organized according to underlying data model\n",
    "\n",
    "Two classes of languages:\n",
    "- Procedural - user specifies how required data is retrieved\n",
    "- Declarative - user specifies what data is required without specifying how to get those data\n",
    "\n",
    "### 6.3. Data Administration"
   ]
  },
  {
   "cell_type": "markdown",
   "metadata": {},
   "source": [
    "## 7.Database Design\n",
    "\n",
    "1. Requirements Analysis\n",
    "2. Conceptual Design\n",
    "3. Logical Design\n",
    "4. Data Definition\n",
    "5. Physical Design\n",
    "6. Implementation and Maintenance\n",
    "\n",
    "![alt](Pictures\\1_4.png)"
   ]
  },
  {
   "cell_type": "markdown",
   "metadata": {},
   "source": [
    "## 7.1. Design steps by example"
   ]
  },
  {
   "cell_type": "markdown",
   "metadata": {},
   "source": [
    "### - Requirements Analysis\n",
    "![alt](Pictures\\1_5.png)"
   ]
  },
  {
   "cell_type": "markdown",
   "metadata": {},
   "source": [
    "### - Conceptual Design\n",
    "\n",
    "![alt](Pictures\\1_6.png)"
   ]
  },
  {
   "cell_type": "markdown",
   "metadata": {},
   "source": [
    "### - Logical Design\n",
    "\n",
    "![alt](Pictures\\1_7.png)"
   ]
  },
  {
   "cell_type": "markdown",
   "metadata": {},
   "source": [
    "### - Data Definition\n",
    "\n",
    "![alt](Pictures\\1_8.png)"
   ]
  },
  {
   "cell_type": "markdown",
   "metadata": {},
   "source": [
    "## Exercises/ Questions - 1\n",
    "\n",
    "### Question 1.\n",
    "- We can store (very) large collections of data in a traditional file system or in a database system. What are the distinctions (advantages and disadvantages)?\n",
    "\n",
    "### Answer\n",
    "Advantages of DBs:\n",
    "- Uniform access to data\n",
    "- Incapsulation of data storage and maintainance tasks\n",
    "- Special algorithms for data manipulations and searching\n",
    "- Ad-hoc commands, easy-to-use syntax.\n",
    "\n",
    "Disadvantages of DBs:\n",
    "- Inner logic may be specific to a DBMS\n",
    "- Require extra metadata\n",
    "- Less flexibility\n",
    "- Require extra resources for running database\n",
    "- Perfomance may degradate in case of very large files\n",
    "- Cannot store (actually, can, but poorly) binary data\n",
    "\n",
    "\n",
    "Advantages of file system storage\n",
    "- Very high (usually) perfomance\n",
    "- High compability\n",
    "- High flexibility\n",
    "- Also hides physical level of data\n",
    "\n",
    "Disadvantages of file system storage:\n",
    "- No instrumets for data analysis and manipulation, a user has to implement it himself\n",
    "- Higher possibility to break the system\n",
    "- Low-level (return binary data) access to data\n",
    "\n",
    "\n",
    "#### Summary\n",
    "\n",
    "Comparing a traditional file system and a database system, we should remember, that database systems are built upon a file system, it utilizes the power of file access, provided at a lower level. It is better to use file systems if you have a binary data and need to implement your ows algorithm to access the data. It would be more useful to use DBs, if you want to store logical data, like integers, strings, objects, also storing its semantic, relations; also you need tools for maintaining these data, and don't have time/intention to do it by yourself."
   ]
  },
  {
   "cell_type": "markdown",
   "metadata": {},
   "source": [
    "## 8. Conceptual Database Design"
   ]
  },
  {
   "cell_type": "markdown",
   "metadata": {},
   "source": [
    "The first step is the abstract representation of the structure of a database\n",
    "\n",
    "Questions that are addressed during conceptual design:\n",
    "\n",
    "- What are **the entities and relationships** of interest (mini-world)?\n",
    "- **What information about entities and relationships** among entities need to be stored in the database?\n",
    "- What are the **contraints** (or business rules) that (must) hold for the entities and relationships?\n",
    "\n",
    "Design is independent of all physicall considerations (DBMS, OS, ...)."
   ]
  },
  {
   "cell_type": "markdown",
   "metadata": {},
   "source": [
    "### 8.1. Entity-Relationship Data Model\n",
    "\n",
    "The most common model for **Conceptual** Database Design is the **entity-relationship** model.\n",
    "\n",
    "#### Entity-Relationship model (ER model)\n",
    "- 1976 P.P.Chen\n",
    "- \"The Entity-Relationship Model - Toward a Unified View of Data\"\n",
    "- Today there are many extensions of the model\n",
    "\n",
    "A database schema in the ER model can be represented pictorially (**Entity-Relationship diagram**)"
   ]
  },
  {
   "cell_type": "markdown",
   "metadata": {},
   "source": [
    "#### 8.1.1. Entities\n",
    "\n",
    "![alt](Pictures\\1_9.png)\n",
    "\n",
    "Entity $e_i$:\n",
    "- real-world object or thing with an independent existence and which is distinguishable from other objects.\n"
   ]
  },
  {
   "cell_type": "markdown",
   "metadata": {},
   "source": [
    "#### 8.1.2. Attributes\n",
    "\n",
    "Attribute $a_i$:\n",
    "- An entity is represeted by a set of attributes (its descriptive **properties**), e.g. name, age, salary, price etc.\n",
    "- Attribute **values** that describe each entity become a **major part of** the dat aeventyally stored in a databse.\n",
    "\n",
    "Types:\n",
    "- simple (atomic) or composite\n",
    "- single-valued or multi-valued\n",
    "- stored or derived\n",
    "- each of the above can be an *optional* attribute, in case an entity may not have an applicable value for an attribute -> NULL.\n",
    "\n",
    "With each attribute a **domain** is associated, i.e., a set of permitted values for an attribute.\n",
    "\n",
    "Possible domains are *number, string, date* etc."
   ]
  },
  {
   "cell_type": "markdown",
   "metadata": {},
   "source": [
    "#### 8.1.3 Entity Types and Sets\n",
    "\n",
    "*Entity Type E* - Collection of entities that all have the same attributes, e.g. persons, cars, customers etc.\n",
    "\n",
    "*Entity Set E* - Collection of entities of a particular entity type at any point in time; entity is typically referred to using the same name as entity type.\n",
    "\n",
    "![alt](Pictures\\1_10.png)"
   ]
  },
  {
   "cell_type": "markdown",
   "metadata": {},
   "source": [
    "#### 8.1.4. Key attributes\n",
    "\n",
    "Entities of an entity type need to be distinguishable.\n",
    "\n",
    "A **key** of an entity type $E$ is a set $K$ of one or more attributes whose values uniquely determine each entity in an entity set.\n",
    "- For given any two distinct entitites $e_1$ and $e_2$ in $E$, $e_1$ and $e_2$ cannot have identical values for each of the attributes in the key $K$.\n",
    "- It is possible for $e_1$ and $e_2$ to agree in some of this attributes, but never in all attributes.\n",
    "\n",
    "There also can be **more then one possible** key for an entity set. Then it is cutomary to pick one key as the 'preffered key', and to act as if that were the only key.\n",
    "\n",
    "If there are not attributes with the key property, we define an **artificial key**."
   ]
  },
  {
   "cell_type": "markdown",
   "metadata": {},
   "source": [
    "#### 8.1.5. Relationship,Types, and Sets\n",
    "\n",
    "##### 8.1.5.1 Relationship Type $R$\n",
    "- describes a set of similar relationships\n",
    "- An $n$-ary relationship type $R$ links $n$ entity types $E_1$, ...,$E_n$.\n",
    "\n",
    "\n",
    "![alt](Pictures\\1_11.png)"
   ]
  },
  {
   "cell_type": "markdown",
   "metadata": {},
   "source": [
    "---\n",
    "### Contraints on Relationship Types\n",
    "\n",
    "Limit the number of possible combinations of entities that may participate in a relationship set.\n",
    "\n",
    "There are two types of constraints:\n",
    "- **cardinality ratio**\n",
    "- **participation constraints**\n"
   ]
  },
  {
   "cell_type": "markdown",
   "metadata": {},
   "source": [
    "## Cardinality Constraints\n",
    "\n",
    "Types of **cardinality ratio** for binary relationships:\n",
    "\n",
    "- **Many-to-Many, N:M**\n",
    "\n",
    "![alt](Pictures\\1_14.png)\n",
    "\n",
    "\" An employee can work in many departments ($\\ge0$), and a department can have several employees.\""
   ]
  },
  {
   "cell_type": "markdown",
   "metadata": {},
   "source": [
    "- **Many-to-One, N:1**\n",
    "\n",
    "Often called a **functional relationship**\n",
    "\n",
    "![alt](Pictures\\1_15.png)\n",
    "\n",
    "\"An employee can work in at most one department ($\\le1$), and a department can have several employees.\"\n"
   ]
  },
  {
   "cell_type": "markdown",
   "metadata": {},
   "source": [
    "- **One-to-Many, 1:N**\n",
    "\n",
    "![alt](Pictures\\1_16.png)\n",
    "\n",
    "The reverse version of **N:1** relationship"
   ]
  },
  {
   "cell_type": "markdown",
   "metadata": {},
   "source": [
    "- **One-to-One, 1:1**\n",
    "\n",
    "![alt](Pictures\\1_17.png)"
   ]
  },
  {
   "cell_type": "markdown",
   "metadata": {},
   "source": [
    "Instaed of a cardinality ratio or participation constraint, more precise **cardinalities** can be associated with relationship types:\n",
    "\n",
    "![alt](Pictures\\1_20.png)\n",
    "\n",
    "Each entity $e_1 \\in E_1$ must participate in relationship set $R$ **at least** $min_1$ and **at most** $max_1$ times (analogous for $e_2 \\in E_2$.\n",
    "\n",
    "![alt](Pictures\\1_21.png)"
   ]
  },
  {
   "cell_type": "markdown",
   "metadata": {},
   "source": [
    "--- "
   ]
  },
  {
   "cell_type": "markdown",
   "metadata": {},
   "source": [
    "## Participation constraint\n",
    "\n",
    "Specifies whether the existence of an entity $e \\in E$ depends on being related to another entity via the relationship type $R$.\n",
    "\n",
    "- **total**: each entity $e \\in E$ _must_ participate in a relationship, it *cannot exist without* that participation (total participation aka existence dependency).\n",
    "\n",
    "![alt](Pictures\\1_18.png)\n",
    "\n",
    "- **total**: default; each entity $e \\in E$ can participate in a relationship"
   ]
  },
  {
   "cell_type": "markdown",
   "metadata": {},
   "source": [
    "##### 8.1.5.2 Relationship (instance)\n",
    "\n",
    "- Association among two or more entities, e.g. \"customer 'Bill' orders product 'SkyPone' \".\n",
    "- Each relationship in a relationship set $R$ of relationship type involves entities \n",
    "\n",
    "$$e_1 \\in E_1,..., e_n \\in E_n$$\n",
    "$$R \\subseteq {(e_1, ..., e_n) | e_1 \\in E_1, ... , e_n \\in E_n}$$\n",
    "\n",
    "where $(e_1, ..., e_n)$ is a relationship.\n",
    "\n",
    "![alt](Pictures\\1_22.png)"
   ]
  },
  {
   "cell_type": "markdown",
   "metadata": {},
   "source": [
    "## Weak Entity Sets\n",
    "\n",
    "Existence of the weak entities depends on the existence of their owner entity.\n",
    "\n",
    "Entity type, at whose identification (key) is involved a relationship (N:1) to an owner entity type.\n",
    "\n",
    "- partial key - attribute(s) for identification of the weak entities relating to *one* owner entity\n",
    "- full key = partial key of the weak entities + key of the owner entity set\n",
    "![alt](Pictures\\1_19.png)"
   ]
  },
  {
   "cell_type": "markdown",
   "metadata": {},
   "source": [
    "##### 8.1.5.3 Degree of a relationship\n",
    "\n",
    "Refers to the number of entity types that participate in the relationship type (binary, ternary, ...).\n",
    "\n",
    "##### 8.1.5.4 Roles\n",
    "\n",
    "The same entity type can participate more than once in a relationship type.\n",
    "\n",
    "![alt](Pictures\\1_12.png)\n",
    "\n",
    "\n",
    "Role labels clarify semantics of a relationship, i.e. the way in which an entity participates in a relationship."
   ]
  },
  {
   "cell_type": "markdown",
   "metadata": {},
   "source": [
    "##### 8.1.5.5 Relationship Attributes\n",
    "\n",
    "A relationship type can have attributes describing properties of a relationship.\n",
    "\n",
    "- \"customer 'Bon' ordered product 'SkyPhone' on October 15, 2014, for $650\"\n",
    "- These are attributes that cannot be associated with participating entities only, e.y., they make only sense in the context of a relationship.\n",
    "\n",
    "Note that a relationship does not have key attributes. The identification of a particular relationship in a relationship set occurs through the keys of participating entities."
   ]
  },
  {
   "cell_type": "markdown",
   "metadata": {},
   "source": [
    "#### 8.2. Example of an Entity-Relationship Diagram\n",
    "\n",
    "![alt](Pictures\\1_13.png)"
   ]
  },
  {
   "cell_type": "markdown",
   "metadata": {},
   "source": [
    "- **Rectangles** - entity types\n",
    "- **Ellipses** - attributes\n",
    "- **Diamonds** - relationship types\n",
    "- **Lines** - link attributes to entity types and entity types to relationship types\n",
    "- **Key** - attributes are underlined\n",
    "- **Empty Circle** - represents an optional (null) attribute\n",
    "- **Double Ellipses** - multi-valued attributes"
   ]
  },
  {
   "cell_type": "markdown",
   "metadata": {},
   "source": [
    "## Handout / Exercise - 2"
   ]
  },
  {
   "cell_type": "markdown",
   "metadata": {},
   "source": [
    "It is possible to define entities and their relationships in a number of different ways (in the same model)\n",
    "\n",
    "- Shoud a real world concept be modeled as an entity type, attribute, or relationship type? Concept shoud be modeled as an entity type, because it reflects a real-world object and has information about the concept's characteristic.\n",
    "\n",
    "- Is \"Address\" in attribute or an entity type? Depends upon the use one wants to make of address information."
   ]
  },
  {
   "cell_type": "markdown",
   "metadata": {},
   "source": [
    "![alt](Pictures\\1_23.png)\n",
    "- Here a supplier cannot offer the same product for different prices, why? Because Price is a Relationship Attribute, the derived key from Supplier and Product cannot distinguish the product by different price: Offers(Supplier_key, Product_key, Price)\n",
    "\n",
    "\n",
    "Modeling price as an entity type resolves the problem resolves the problem - Offers(Supplier_Key, Product_Key, Price_Key); Price(Price_Key, Amount)\n",
    "\n",
    "\n",
    "![alt](Pictures\\1_24.png)\n",
    "\n"
   ]
  },
  {
   "cell_type": "markdown",
   "metadata": {},
   "source": [
    "## 9. Steps in Designing an Entity-Relationship Schema\n",
    "\n",
    "1. Identify entity types (entity type vs. attribute)\n",
    "2. Identify relationship types\n",
    "3. Identify and associate attributes with entity and relationship types\n",
    "4. Determine attribute domains\n",
    "5. Determine key attributes for entity types\n",
    "6. Associate (refined) cardinality ratio(s) with relationship types"
   ]
  }
 ],
 "metadata": {
  "kernelspec": {
   "display_name": "Python 3",
   "language": "python",
   "name": "python3"
  },
  "language_info": {
   "codemirror_mode": {
    "name": "ipython",
    "version": 3
   },
   "file_extension": ".py",
   "mimetype": "text/x-python",
   "name": "python",
   "nbconvert_exporter": "python",
   "pygments_lexer": "ipython3",
   "version": "3.6.8"
  }
 },
 "nbformat": 4,
 "nbformat_minor": 1
}
