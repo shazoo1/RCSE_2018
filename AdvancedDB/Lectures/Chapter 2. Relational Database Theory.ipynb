{
 "cells": [
  {
   "cell_type": "markdown",
   "metadata": {},
   "source": [
    "# Relations. The relational data model"
   ]
  },
  {
   "cell_type": "markdown",
   "metadata": {},
   "source": [
    "- This is a logical data model\n",
    "- Developed by E.F.Codd (IBM) - 1970\n",
    "- Represent data as two-dimentional tables called **relations**.\n",
    "- Each row(tuple) of a table describes with the values in the columns an entity or a relationship.\n",
    "\n",
    "\n",
    "Nice features\n",
    "- Simple and uniform data structures - relations\n",
    "- Solid theoretical foundation (important for query processing and optimization)"
   ]
  },
  {
   "cell_type": "markdown",
   "metadata": {},
   "source": [
    "![\"Representation of relation\"](Pictures\\1_25.png)"
   ]
  },
  {
   "cell_type": "markdown",
   "metadata": {},
   "source": [
    "## Basics of the Relational Model\n",
    "\n",
    "- Domains $D_i$ - set of permitted (atomic) values for an attribute $A_i$\n",
    "- Schema $R(A_1, A_2, ... , A_n)$ - descriptive attributes\n",
    "    - R - name of relation\n",
    "    - n - degree of relation (count of attributes)\n",
    "    - Let $A_1, A_2, ... A_n$ be attributes with domains $D_1, D_2, ... , D_n$, then $R(A_1 : D_1, A_2 : D_2, ..., A_n : D_n$ is a **relation schema**\n",
    "    - A relation schema specifies the name and the structure of the relation.\n",
    "    - A collection of relation schemas is called a relational **database schema**\n",
    "- Relation $r(R)$ - finite set of n-tuples $r = (t_1, t_2, ... , t_m) $, m - number of tuples\n",
    "\n",
    "$$r(x_1 \\in D_1, x_2 \\in D_2, ..., x_n \\in D_n), r \\subset Cartesian(D_1 * D_2 * ... * D_n)$$\n",
    "- n-tuple t - list (ordered set) of $n$ values from the domains corresponding to attributes of the schema respectively\n",
    "    $$ t_k = < v_1, v_2, ..., v_n>, v_i \\in D_i, i=1,...,n , k=1,...,m$$"
   ]
  },
  {
   "cell_type": "markdown",
   "metadata": {},
   "source": [
    "## Relation Schema, Database Schema, And Instances\n",
    "\n",
    "- A relation instance $r(R)$ of a relation schema can be though of as a table with $n$ columns and a number of rows (Instead of relation instance we often just say *relation*).\n",
    "- An instance of a database schema thus is a collection of relation instances.\n",
    "- An element $t \\in r(R)$ is called a tuple (or row).\n",
    "\n",
    "![\"A simple schema\"](Pictures\\2_1.png)\n",
    "\n",
    "A relation has the following properties:\n",
    "- the order of rows is irrelevant\n",
    "- there are no duplicate rows in a relation"
   ]
  },
  {
   "cell_type": "markdown",
   "metadata": {},
   "source": [
    "## Keys\n",
    "\n",
    "Key - is a set of attributes, whose values can identify the tuples (rows), but not subset has this property -> a key must be minimal. \n",
    "\n",
    "For a relation several candidate keys may exist.\n",
    "\n",
    "### Primary Key (PK)\n",
    "\n",
    "A set of attributes is a **key** for a relation if:\n",
    "1. no two distinct tuples have the same values for all key attributes\n",
    "2. this is not true for any subset of that key -> key is minimal\n",
    "\n",
    "If there are more then one key for a relation (candidate keys), one of those is selected to be the **primary key** of the relation.\n",
    "\n",
    "### Foreign Key (FK)\n",
    "\n",
    "**Foreing key** is a set of attributes in one relation (child relation) that is used to \"refer\" to a tuple in another relation (parent relation). Foreign key must refer to the primary key of the referenced relation.\n",
    "\n",
    "Values of the foreign key appearing in the first relation must also appear in the referenced attributes of the second relation.\n",
    "\n",
    "Foreign/Primary key attributes must have matching domains.\n",
    "\n",
    "A **foreign key constraint** is satisfied for a tuple if:\n",
    "- either some values of the foreign key attributes are NULL (meaining a reference is not known)\n",
    "- or values of the foreign key attributes occur as the values of the primary key (of some tuple) in the parent relation\n",
    "\n",
    "\n",
    "If all foreign key constraints are enforced for a relation, **referential integrity** is achieved, i.e. there are no dangling references."
   ]
  },
  {
   "cell_type": "markdown",
   "metadata": {},
   "source": [
    "## Integrity constraints in the Relational Model\n",
    "\n",
    "Integrity constraints (ICs): must be true for any instance of a relation schema (admissible instances)\n",
    "- ICs are *specified* when the schema is defined\n",
    "- ICs are *checked* by the DBMS when relations (instances) are modified\n",
    "\n",
    "If DBMS checks ICs, then the data managed by the DBMS more closely correspond to the real-world scenario that is being modeled."
   ]
  },
  {
   "cell_type": "markdown",
   "metadata": {},
   "source": [
    "## Translation of ER Schema into Tables\n",
    "\n",
    "1. An ER schema can be represented by a collection of tables which represent contents of the database (instance).\n",
    "2. **Primary keys** allow entity types and relationship types to be expressed uniformly as tables.\n",
    "3. For each entity and relationship type, a **unique table** can be derived which is assigned the name of the corresponding entity or relationship type.\n",
    "4. Each table has a **number of columns** that corresnpond to the (atomic) attributes and which have unique names. An attribute of a table has the same domain as the attribute in the ER schema.\n",
    "5. Translating an ER schema into a collection of tables is the basis for deriving a relational database schema from an ER diagram."
   ]
  },
  {
   "cell_type": "markdown",
   "metadata": {},
   "source": [
    "#  Relational Database Design"
   ]
  },
  {
   "cell_type": "markdown",
   "metadata": {},
   "source": [
    "Refinement of logical design step\n",
    "\n",
    "**Goal**: avoid redundancies by **splitting relational schemas**\n",
    "- without losing semantic information (dependency preserving decomposition)\n",
    "- with opportunity to reconstruct original relation (lossless-join decomposition)\n",
    "\n",
    "**Solution**: avoid redundancies by transforming schemas into **normal forms**"
   ]
  },
  {
   "cell_type": "markdown",
   "metadata": {},
   "source": [
    "Here is an example with redundancies and the following problems:\n",
    "- Insertion of a new booking for flight A456 or insertion of a new flight without bookings\n",
    "- FilghtA456 is cancelled\n",
    "- Update of the name from customer 'Meier, R.'\n",
    "\n",
    "![\"An example of real-world relation instance\"](Pictures\\2_2.png)"
   ]
  },
  {
   "cell_type": "markdown",
   "metadata": {},
   "source": [
    "Avoid redundancies in base relations for different reasons:\n",
    "- redundant information require additional disk space\n",
    "- updates on base relations containing redundancies are difficult to process correctly based only on local integrity constraints: all occurences of a given information have to be updated"
   ]
  },
  {
   "cell_type": "markdown",
   "metadata": {},
   "source": [
    "Anomalies:\n",
    "- Insert anomaly\n",
    "- Update anomaly\n",
    "- Delete anomaly"
   ]
  },
  {
   "cell_type": "markdown",
   "metadata": {},
   "source": [
    "## Functional Dependencies\n",
    "\n",
    "$$(FD): X->Y$$\n",
    "\n",
    "Functional dependency between sets of attributes $X$ and $Y$ of a given relation **exists** if in each tuple of the relation the values in $X$ determines the values in $Y$.\n",
    "\n",
    "If two tuples don't differe regarding the attributes $X$, then they have also the same values for attributes $Y$:\n",
    "\n",
    "$$t_1(X) = t_2(X) => t_1(Y) = t_2(Y)$$\n",
    "\n",
    "\n"
   ]
  },
  {
   "cell_type": "markdown",
   "metadata": {},
   "source": [
    "## Primary Keys as Special Case of FDs\n",
    "\n",
    "Consider the example:\n",
    "$$StudentID -> Name, Course, Grade, Program, Faculty$$\n",
    "$$StudentID -> StudentID$$\n",
    "$$StudentID -> StudentID,Name, Course, Grade, Program, Faculty$$\n",
    "\n",
    "- StudentID determine th entire schema at the right hand side.\n",
    "- If left hand side is minimal, then it is a key."
   ]
  },
  {
   "cell_type": "markdown",
   "metadata": {},
   "source": [
    "Formally: '$X$ is a key, if for relation schema $R$ the $FD X->R$ is satisfied and $X$ is minimal'"
   ]
  },
  {
   "cell_type": "markdown",
   "metadata": {},
   "source": [
    "**Goal of the Database Design**: transform all given functional dependencies into \"key dependencies\" without losing semantic information."
   ]
  },
  {
   "cell_type": "markdown",
   "metadata": {},
   "source": [
    "## Inference Rules for FDs\n",
    "\n",
    "![\"Inference Rules for Function Dependencies\"](Pictures\\2_3.png)\n",
    "\n",
    "- F1-F3 also known as Armstrong-Axioms (sound, complete)\n",
    "    - sound: generate only functional dependencies in the closure of a set of functional dependencies $F^+$\n",
    "    - complete: repeated application of the rules will generate all functional dependencies in $F^+$\n",
    "    - independent: none of the rules may be dropped"
   ]
  },
  {
   "cell_type": "markdown",
   "metadata": {},
   "source": [
    "## Normal Forms\n",
    "\n",
    "- define properties of relation schemas\n",
    "- forbid certian combinations of functional dependencies in a given relation\n",
    "- avoid redundancies and update anomalies"
   ]
  },
  {
   "cell_type": "markdown",
   "metadata": {},
   "source": [
    "### 1st Normal Form\n",
    "\n",
    "Allow only **atomic attributes** in a relation schema, i.e. attribute values are from domains of basic data types like *integer* or *strings*, but not costructors such as *array* or *set*.\n",
    "\n",
    "![\"1NF\"](Pictures\\2_6.png)"
   ]
  },
  {
   "cell_type": "markdown",
   "metadata": {},
   "source": [
    "### 2st Normal Form\n",
    "\n",
    "Partial dependency - an attribute already depends on a subset of the primary key\n",
    "\n",
    "2NF removes **partial dependencies** for non-key attributes.\n"
   ]
  },
  {
   "cell_type": "markdown",
   "metadata": {},
   "source": [
    "![2NF](Pictures\\2_4.png)"
   ]
  },
  {
   "cell_type": "markdown",
   "metadata": {},
   "source": [
    "![\"Deriving 2NF\"](Pictures\\2_5.png)"
   ]
  },
  {
   "cell_type": "markdown",
   "metadata": {},
   "source": [
    "### 3rd Normal Form\n",
    "\n",
    "Removes **transitive dependencies**\n",
    "\n",
    "\n",
    "![3NF](Pictures\\2_7.png)"
   ]
  },
  {
   "cell_type": "markdown",
   "metadata": {},
   "source": [
    "$A \\in R$ **trainsitively depends** on $X$ regarding $F$ if there exists $Y \\in R$ with $X->Y, Y !->X, Y->A, A !\\in XY$.\n",
    "\n",
    "Extended relation schema $R \\in (R,K)$ is in 3NF regarding $F$ if $! \\exists A \\in R$:\n",
    "- $A$ is non-prime attribute in $R$\n",
    "- $A$ is transitively dependent on $K$ "
   ]
  },
  {
   "cell_type": "markdown",
   "metadata": {},
   "source": [
    "## The Golden Mean\n",
    "\n",
    "- The 3NF is not always the best design\n",
    "- ... only if the emphasis is such that\n",
    "    - all aplication data can be derived from the base relations\n",
    "    - only semantically meaningful and consistent data can be represented\n",
    "    - data is represented without redundancies\n",
    "    \n",
    "Sometimes it's better to leave the database schema in the 1NF, if your focus is on efficiently querying.\n",
    "\n",
    "The consequence of decomposition are many join operations between the base tables for reconstruction of infromation (to derive all application data)."
   ]
  }
 ],
 "metadata": {
  "kernelspec": {
   "display_name": "Python 3",
   "language": "python",
   "name": "python3"
  },
  "language_info": {
   "codemirror_mode": {
    "name": "ipython",
    "version": 3
   },
   "file_extension": ".py",
   "mimetype": "text/x-python",
   "name": "python",
   "nbconvert_exporter": "python",
   "pygments_lexer": "ipython3",
   "version": "3.6.8"
  }
 },
 "nbformat": 4,
 "nbformat_minor": 2
}
