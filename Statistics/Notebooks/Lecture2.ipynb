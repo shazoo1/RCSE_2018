{
 "cells": [
  {
   "cell_type": "markdown",
   "metadata": {},
   "source": [
    "# Lecture 2: Hypothesis testing and correlation"
   ]
  },
  {
   "cell_type": "markdown",
   "metadata": {},
   "source": [
    "### Definition\n",
    "\n",
    "- *hypothesis testing* - a statistical approahc, where a null hypothesis is posed: if the null hypothesis is true, how likely is the observed pattern of results?\n",
    "\n",
    "- *p-value* - the likelihood of null hypothesis, and indicates the statistical significance of the observed pattern of results. If the *p*-value is less than some threshold that we decide upon (e.g. *p* < 0.05), we reject the null hypothesis.\n",
    "\n",
    "- *t-test* - is the classic method for testing whether"
   ]
  },
  {
   "cell_type": "markdown",
   "metadata": {},
   "source": [
    "## Nonparametric alternatives to the t-test\n",
    "### Randomization (or permutation) tests.\n"
   ]
  },
  {
   "cell_type": "markdown",
   "metadata": {},
   "source": [
    "Let's pose the null hypothesis that the two sets of data come from the same probability distribution (not necessarily Gaussian). Under the null hyphotesis, the two sets of data are interchangeable, so if we aggregate the data points and randomly divide the data points into two sets, then the results should be comparable to the results obtained with the original data.\n",
    "\n",
    "\n",
    "So, the trategy is to generate random datasets, compute some statistic from these datasets (such as difference in means or difference in medians), and then compare the resulting values to the statistic computed from the original data. We count the number of randomly obtained values that are more extreme than the actual observed value and divide this by the total number that were ran. The result is $p$-value.\n",
    "\n",
    "Notice that we have used raw computational power to calculate the $p$-value directly instead of relying on analytical formulas."
   ]
  },
  {
   "cell_type": "code",
   "execution_count": 65,
   "metadata": {
    "scrolled": true
   },
   "outputs": [
    {
     "name": "stdout",
     "output_type": "stream",
     "text": [
      "Using matplotlib backend: Qt5Agg\n",
      "Populating the interactive namespace from numpy and matplotlib\n"
     ]
    },
    {
     "data": {
      "text/plain": [
       "array([[<matplotlib.axes._subplots.AxesSubplot object at 0x000001AA57A491D0>,\n",
       "        <matplotlib.axes._subplots.AxesSubplot object at 0x000001AA57A9E2B0>]],\n",
       "      dtype=object)"
      ]
     },
     "execution_count": 65,
     "metadata": {},
     "output_type": "execute_result"
    },
    {
     "data": {
      "image/png": "[encoded data removed]",
      "text/plain": [
       "<Figure size 432x288 with 2 Axes>"
      ]
     },
     "metadata": {},
     "output_type": "display_data"
    }
   ],
   "source": [
    "%pylab\n",
    "%matplotlib inline\n",
    "import pandas as pd\n",
    "\n",
    "sample_size = 1000\n",
    "\n",
    "# Set two random variables\n",
    "x = pd.Series(np.random.normal(10,10,size=(sample_size)))\n",
    "y = pd.Series(np.random.normal(10,10,size=(sample_size)))\n",
    "\n",
    "# Construct data structure to store the data\n",
    "df = pd.DataFrame({\n",
    "    'x':x,\n",
    "    'y':y\n",
    "})\n",
    "df.hist()"
   ]
  },
  {
   "cell_type": "code",
   "execution_count": 68,
   "metadata": {},
   "outputs": [
    {
     "data": {
      "text/plain": [
       "x    10.298952\n",
       "y    10.471325\n",
       "dtype: float64"
      ]
     },
     "execution_count": 68,
     "metadata": {},
     "output_type": "execute_result"
    }
   ],
   "source": [
    "# Apply aggregation on data and then divide the original data.\n",
    "# Besides, it must be the same tendency.\n",
    "\n",
    "mean = df.mean()\n",
    "\n",
    "mean"
   ]
  },
  {
   "cell_type": "code",
   "execution_count": 70,
   "metadata": {
    "scrolled": true
   },
   "outputs": [
    {
     "data": {
      "text/plain": [
       "array([[<matplotlib.axes._subplots.AxesSubplot object at 0x000001AA57BDEC88>,\n",
       "        <matplotlib.axes._subplots.AxesSubplot object at 0x000001AA57C2DDD8>]],\n",
       "      dtype=object)"
      ]
     },
     "execution_count": 70,
     "metadata": {},
     "output_type": "execute_result"
    },
    {
     "data": {
      "image/png": "[encoded data removed]",
      "text/plain": [
       "<Figure size 432x288 with 2 Axes>"
      ]
     },
     "metadata": {},
     "output_type": "display_data"
    }
   ],
   "source": [
    "new_df = pd.DataFrame({\n",
    "    'x': x / mean['y'],\n",
    "    'y': y / mean['x'],\n",
    "})\n",
    "\n",
    "new_df.hist()\n"
   ]
  },
  {
   "cell_type": "markdown",
   "metadata": {},
   "source": [
    "As we can see, for example, for Gaussian distribution the mean value (one of aggregated function)  didn't change significally, so there is no diffirence which sample to take, both of sample shows the same correlation even divided by the metrics of  their opposite samples."
   ]
  },
  {
   "cell_type": "markdown",
   "metadata": {},
   "source": [
    "## What the difference between resampling, randomization and bootstrapping?\n",
    "\n",
    "- https://www.vusoft.eu/apps/help/eng/bootstrap_and_randomisatie.htm\n",
    "- https://stats.stackexchange.com/questions/20217/bootstrap-vs-permutation-hypotheis-testing\n",
    "- https://www.burns-stat.com/documents/tutorials/the-statistical-bootstrap-and-other-resampling-methods-2/\n",
    "\n",
    "\n",
    "\n",
    "\n",
    "* **Resampling** means that the original dataset is used to generate new samples, the results of which can be analyzed. Bootstrap and randomization are two examples of resampling methods.\n",
    "\n",
    "* **Bootstrap** is used to estimate confidence intervals (not only, but works the best for that purpose)\n",
    "\n",
    "* **Randomization** is used to perform tests"
   ]
  },
  {
   "cell_type": "markdown",
   "metadata": {},
   "source": [
    "## Correlation\n",
    "\n",
    "- Linear relationship can be quantified using the metric of $correlation(r)$. Correlation values lie in the range **[-1,1]**, where **-1** indicates a perfect negative linear relationship, **0** indicates no relationship, and **1** indicates a perfect positive linear relationship"
   ]
  },
  {
   "attachments": {
    "%D0%B8%D0%B7%D0%BE%D0%B1%D1%80%D0%B0%D0%B6%D0%B5%D0%BD%D0%B8%D0%B5.png": {
     "image/png": "[encoded data removed]"
    }
   },
   "cell_type": "markdown",
   "metadata": {},
   "source": [
    "### Marginal distribution\n",
    "\n",
    "- https://www.khanacademy.org/math/ap-statistics/analyzing-categorical-ap/distributions-two-way-tables/v/marginal-distribution-and-conditional-distribution\n",
    "- https://en.wikipedia.org/wiki/Joint_probability_distribution\n",
    "- https://en.wikipedia.org/wiki/Marginal_distribution\n",
    "- https://slideplayer.com/slide/5942868/\n",
    "\n",
    "\n",
    "Marginal variables are those variables in the subset of variables being retained.\n",
    "\n",
    "\n",
    "![%D0%B8%D0%B7%D0%BE%D0%B1%D1%80%D0%B0%D0%B6%D0%B5%D0%BD%D0%B8%D0%B5.png](attachment:%D0%B8%D0%B7%D0%BE%D0%B1%D1%80%D0%B0%D0%B6%D0%B5%D0%BD%D0%B8%D0%B5.png)\n",
    "\n",
    "По-русски - частное распределение, вероятностное распределение одной или множества случайных величин, рассматриваемых в качестве компоненты или множества компонент некоторого известного многомерного распределения."
   ]
  },
  {
   "cell_type": "markdown",
   "metadata": {},
   "source": [
    "$$Pr(X=x) = \\sum Pr(X=x, Y=y) = \\sum Pr(X=x|Y=y)Pr(Y=y)$$"
   ]
  }
 ],
 "metadata": {
  "kernelspec": {
   "display_name": "Python 3",
   "language": "python",
   "name": "python3"
  },
  "language_info": {
   "codemirror_mode": {
    "name": "ipython",
    "version": 3
   },
   "file_extension": ".py",
   "mimetype": "text/x-python",
   "name": "python",
   "nbconvert_exporter": "python",
   "pygments_lexer": "ipython3",
   "version": "3.6.5"
  }
 },
 "nbformat": 4,
 "nbformat_minor": 2
}
