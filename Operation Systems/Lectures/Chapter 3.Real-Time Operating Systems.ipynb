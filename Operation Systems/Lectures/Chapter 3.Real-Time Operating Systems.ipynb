{
 "cells": [
  {
   "cell_type": "markdown",
   "metadata": {},
   "source": [
    "## Scenario 1. Controlling of Car Airbags\n",
    "\n",
    "### Operation principle\n",
    "\n",
    "- **Crash** recongized by crash sensors - micromechanical acceleration sensor + processing electronics\n",
    "- **Protection** against unwanted triggering of airbags by safing sensor and precrash sensors.\n",
    "- **Controlling device**\n",
    "    - Processes sensor signals. If the precrash sensors have detected an imminent crach it computes:\n",
    "        - the imact angle\n",
    "        - relative velocity\n",
    "        - exact point in time of the crash\n",
    "        - necessary restraining devices\n",
    "        - exact time for ignition of airbags\n",
    "    - Triggers ignition at the rith moment\n",
    "    - + selftests, fault indication etc.\n",
    "\n",
    "![\"Car Airbags\"](Pictures/3_1.png)\n",
    "\n",
    "### Necessarity\n",
    "\n",
    "**Ignitions** must be triggered in exactly the right moment\n",
    "\n",
    "**All computations must be done in time, i.e. at least be finished at a certain point in time**"
   ]
  },
  {
   "cell_type": "markdown",
   "metadata": {},
   "source": [
    "## Real-Time Operation System"
   ]
  },
  {
   "cell_type": "markdown",
   "metadata": {},
   "source": [
    "A **real-time operating system (RTOS)** is any operating system (OS) intended to server real-time applications that process data as it comes in, typically without buffer delays. Processing must be done within the defined constraints or the system will fail. A real time system is a time bound systme which has well defined fixed time constraints.\n",
    "\n",
    "\n",
    "RTOS considers a **response time** (reaction time) as the time interval that a system need to product any form of output as a reaction on any form of an input.\n",
    "\n",
    "Considers **exactly this time interval** to be **critical**. More exactly this can be specified by introducing the notion of a **deadline** (due time) $d$, which describes until which latest point in time a reaction has to take place - or how long the $\\delta t $ interval is allowed to be at maximum.\n",
    "\n"
   ]
  },
  {
   "cell_type": "markdown",
   "metadata": {},
   "source": [
    "![\"Processing in RTOS\"](Pictures/3_2.png)"
   ]
  },
  {
   "attachments": {},
   "cell_type": "markdown",
   "metadata": {},
   "source": [
    "Including this very maximum time interval into the specification of a system means that the system's behavior is correct only when its **reaction** takes place until the specified deadline.\n",
    "\n",
    "Deadline separates correct behavior from incorrect one."
   ]
  },
  {
   "cell_type": "markdown",
   "metadata": {},
   "source": [
    "![\"Correct/Incorrect time limits\"](Pictures/3_3.png)"
   ]
  },
  {
   "cell_type": "markdown",
   "metadata": {},
   "source": [
    "### Hard / Soft RTOS\n",
    "\n",
    "\n",
    "Practically, it is of use to distinguish between \"hard\" and \"soft\" real-time systems\n",
    "\n",
    "#### Hard RTOS\n",
    "\n",
    "In a hard real-time system **no deadline ever** must be exceeded (because otherwise there would occur a catastrophic event).\n",
    "\n",
    "#### Soft RTOS\n",
    "\n",
    "In a soft real-time system ocasssional exceeding of deadlines is **tolerated**. More precisely the percentage of tolerated deadline exceedings could be contained in the specification, or similar."
   ]
  },
  {
   "cell_type": "markdown",
   "metadata": {},
   "source": [
    "### Examples of RTOS\n",
    "\n",
    "Examples of RTOS:\n",
    "- Control and monitoring systems\n",
    "- Specialized computing systems (mulitmedia, nuclear plant, etc.)\n",
    "- Human beings and other living creatures\n"
   ]
  },
  {
   "attachments": {},
   "cell_type": "markdown",
   "metadata": {},
   "source": [
    "#### Control and monitoring systems\n",
    "\n",
    "Come in 3 flavors:\n",
    "- Feedback or closed-loop control systems\n",
    "- Open-loop control systems\n",
    "- Monitoring systems\n"
   ]
  },
  {
   "cell_type": "markdown",
   "metadata": {},
   "source": [
    "##### Feedback (closed-loop) system\n",
    "\n",
    "Controlled system:\n",
    "- Complete plant (power plant, chemical plant, ...)\n",
    "- Mean of locomotion (car, plane, ...)\n",
    "- Robot\n",
    "- etc., any physical system that must have a desired behavior\n",
    "\n",
    "![\"Feedback control system\"](Pictures/3_4.png)\n",
    "\n",
    "1. Actuator sybsystem \n",
    "Modifies the environment by 1 or more actuators, e.g. *engines, motors, pumps, ...*\n",
    "\n",
    "2. Sensor subsystem\n",
    "Collects information on the environment's state by different types of sensors, e.g. *microphones, cameras, temperature sensors, ...* \n",
    "\n",
    "![\"Actuator/Sensor subsystems\"](Pictures/3_5.png)\n",
    "\n",
    "\n",
    "![\"An example of feedback system\"](Pictures/3_6.png)\n"
   ]
  },
  {
   "cell_type": "markdown",
   "metadata": {},
   "source": [
    "##### Open-loop control system\n",
    "- Sensor subsystem is not used for feedback\n",
    "- There is interaction with the invironment, but the **operations of the actuators** do not depend on the actual state of the environment\n",
    "\n",
    "Sensors are used for planning actions, but there exists no feedback between sensors and actuators (i.e. an action once planned can be continued without taking into account actual sensor data)\n",
    "\n",
    "![\"Open-loop system\"](Pictures/3_7.png)"
   ]
  },
  {
   "cell_type": "markdown",
   "metadata": {},
   "source": [
    "##### Monitoring system\n",
    "- no actuator subsystem, cannot modify environment\n",
    "- use sensor subsystem to gain environment data processed data are presented to users\n",
    "\n",
    "![\"Monitoring systems\"](Pictures/3_8.png)\n",
    "\n",
    "Examples:\n",
    "- Radar systems\n",
    "- Environmental monitoring systems\n",
    "- Warning systems of different types\n",
    "\n",
    "![\"Monitoring systems\"](Pictures/3_9.png)"
   ]
  },
  {
   "cell_type": "markdown",
   "metadata": {},
   "source": [
    "## Real-Time Computer Applications\n",
    "\n",
    "A Real-time Computer application is described by a **set of real-time processes**.\n",
    "\n",
    "**Design**:\n",
    "1. Structure the application as set of concurrent processes.\n",
    "2. Derive time-dependent properties of the processes (e.g. period etc.)\n"
   ]
  },
  {
   "cell_type": "markdown",
   "metadata": {},
   "source": [
    "### Example\n",
    "\n",
    "`The robot must exert force onto the object's surface in a desired way and follow the object's contour by means of visual feedback`\n",
    "\n",
    "![\"Robot exercise surface\"](Pictures/3_10.png)"
   ]
  },
  {
   "cell_type": "markdown",
   "metadata": {},
   "source": [
    "![\"Inner processes inside the robot\"](Pictures/3_11.png)\n",
    "\n",
    "Servo loops:\n",
    "1. Inner loop - dedicated to:\n",
    "    - Image acquision\n",
    "    - Force reading\n",
    "    - Robot control\n",
    "2. Outer loop - perfoms\n",
    "    - Scene analysis\n",
    "    - Surface reconstruction"
   ]
  },
  {
   "cell_type": "markdown",
   "metadata": {},
   "source": [
    "##### Process \"force\"\n",
    "- periodically reads force/torque sensor\n",
    "- puts data into CAB \"force\"\n",
    "- must have **guaranteed execution time** (since a missed deadline could cause unstable behavior of the robot system)\n",
    "- must be **hard real-time process**, period 20ms\n",
    "\n",
    "\n",
    "##### Process \"vision\"\n",
    "- periodically reads image memory - filled by the camera frame grabber\n",
    "- computes direction for next exploration step\n",
    "- puts data into CAB \"path\"\n",
    "- must be \"hard real-time process\", period 80 ms (missed deadline: could cause robot to follow wrong direction)\n",
    "\n",
    "##### Process \"control\"\n",
    "- computes coordinates for robot arm\n",
    "- must be \"beriodic hard-time process\", period 28 ms (rate imposed by communication protocol of robot controller)\n",
    "- Exceeding only one deadline could cause the object to be **damaged**, because too much force\n",
    "\n",
    "##### Process \"display\"\n",
    "- reconstruct object surface - based on force/torque data & exploring direction\n",
    "- decided to be \"periodic soft real-time process\", period 60 ms (not critical: data representation on monitor does not affect robot motion)"
   ]
  },
  {
   "cell_type": "markdown",
   "metadata": {},
   "source": [
    "## Characterization of Real-Time Process\n",
    "\n",
    "Many real time applications contain **periodic** and **aperiodic** processes.\n",
    "\n",
    "Typical real-time processes of control applications:\n",
    "- Periodic processes\n",
    "    - time controlled (analyzing of sensor data)\n",
    "    - often critical activities -> hard deadlines\n",
    "- Aperiodic processes\n",
    "    - event-controlled\n",
    "    - depends on the application (hard/soft deadlines, even not to be real-time)"
   ]
  },
  {
   "cell_type": "markdown",
   "metadata": {},
   "source": [
    "### Periodic Processes\n",
    "\n",
    "Typical for:\n",
    "- Periodic analysis of data\n",
    "- Planning of action (compare robot arm)\n",
    "- Creation or processing of single data units\n",
    "\n",
    "Activated by:\n",
    "- event-controlled\n",
    "- time controlled\n",
    "\n",
    "For incoming data processing mostly event-controlled.\n",
    "For output data creating  mostly time-controlled."
   ]
  },
  {
   "cell_type": "markdown",
   "metadata": {},
   "source": [
    "#### Deadlines\n",
    "\n",
    "There are **hard** and **soft** deadlines\n",
    "\n",
    "If it's a point in time, then: **not later** than at the **end of the actual period**, but **may be earlier**, too.\n",
    "\n",
    "![\"Deadline\"](Pictures/3_12.png)\n",
    "\n",
    "Deadline can be represented is a infinite sequence of identical activations - also called **instances** - with **constant rate** (period)\n",
    "\n",
    "![\"Periodic Process Representation\"](Pictures/3_13.png)\n",
    "\n",
    "\n",
    "If all specifications are met - the OS **must quarantee** that:\n",
    "1. Time-controlled periodic processes: are *activated with* the *specific rate* and can *meet their deadlines*\n",
    "2. Event-controlled periodic processes: can meet their deadlines"
   ]
  },
  {
   "cell_type": "markdown",
   "metadata": {},
   "source": [
    "### Aperiodic Processes\n",
    "\n",
    "Typical for **irregular occuring events**, e.g. changing the pointer within a multimedial presentation.\n",
    "\n",
    "Usually, **event-controlled**, with **soft** deadlines(depends)\n",
    "\n",
    "If the specification are met: the OS **must take care for meeting the deadlines**,\n",
    "Also represented as a infinite sequence of identical activations (instances) - but the monemts of activation are irregular.\n",
    "\n",
    "![\"Aperiodic Process Representation\"](Pictures/3_14.png)\n",
    "\n",
    "\n",
    "Aperiodic real-time processes are run with a **guaranteed minimal time interval** between 2 activations"
   ]
  },
  {
   "cell_type": "markdown",
   "metadata": {},
   "source": [
    "## Parameters\n",
    "\n",
    "![\"Parameters #1\"](Pictures/3_15.png)\n",
    "\n",
    "![\"Parameters #2\"](Pictures/3_16.png)\n",
    "\n",
    "![\"Parameters #3\"](Pictures/3_17.png)\n",
    "\n",
    "\n",
    "\n",
    "Parameters:\n",
    "- $a_i$: arrival time - point in time, a process gets ready to run\n",
    "- $s_i$: start time - point in time, a process starts running\n",
    "- $f_i$: finishing time - point in time, a process stops running\n",
    "- $d_j$: deadline, due time - point in time, a process should finish running at maximum\n",
    "- $C_j$: computation time - quantum of time, the CPU need to completely process the actual instance (interrupts in processing do not count)\n",
    "- $L_i$: latentess ($L_i = f_i - d_i$) - amount of time, a process finishes too late or too early (when the process finishes before his deadline, has a negative value)\n",
    "- $E_i$: exceeding time ($E_i = max(0,L_i)$) - amount of time, a process is active after its deadline\n",
    "- $X_i$ - laxity (Slacktime) ($X_i=d_i - a_i - C_i$) - maximum amount of time, a process **can become delayed** to be still finished at its deadline"
   ]
  },
  {
   "cell_type": "markdown",
   "metadata": {},
   "source": [
    "## Algorithms and Problems"
   ]
  },
  {
   "cell_type": "markdown",
   "metadata": {},
   "source": [
    "### Real-Time scheduling\n",
    "\n",
    "Scheduling-Algorithms that can produce schedules considering **process deadlines**.\n",
    "\n",
    "Basic algorithms:\n",
    "- Best known:\n",
    "    - **Rate-monotonic algorithm (RM)**\n",
    "    - **Earliest Deadline First (EDF)**"
   ]
  },
  {
   "cell_type": "markdown",
   "metadata": {},
   "source": [
    "#### Rate-monotonic scheduling (RM)\n",
    "\n",
    "Preconditions:\n",
    "- Processes/Threads get ready periodically (periodic processes)\n",
    "\n",
    "RM algorithm\n",
    "- proccess with **highest arrival rate** gets **highest static priority**\n",
    "- **Scheduling moment**: once at beginning only (or when a new periodic process arrives)\n",
    "- algorithm is **preemptive**\n",
    "\n",
    "\n",
    "![\"Rate-Monotonic scheduling example\"](Pictures/3_18.png)"
   ]
  },
  {
   "cell_type": "markdown",
   "metadata": {},
   "source": [
    "#### Earliest Deadline First (EDF)\n",
    "\n",
    "Process types:\n",
    "- Works with **periodic and aperiodic** Processes/Threads\n",
    "\n",
    "EDF algorithm\n",
    "- At any instant the process with the earliest (i.e. next) deadline obtains **highest dynamic priority**\n",
    "- **Scheduling moment**: when **any process gets ready**\n",
    "- algorithm is **preemptive**\n",
    "\n",
    "![\"Earliest Deadline First\"](Pictures/3_19.png)"
   ]
  }
 ],
 "metadata": {
  "kernelspec": {
   "display_name": "Python 3",
   "language": "python",
   "name": "python3"
  },
  "language_info": {
   "codemirror_mode": {
    "name": "ipython",
    "version": 3
   },
   "file_extension": ".py",
   "mimetype": "text/x-python",
   "name": "python",
   "nbconvert_exporter": "python",
   "pygments_lexer": "ipython3",
   "version": "3.6.8"
  }
 },
 "nbformat": 4,
 "nbformat_minor": 2
}
