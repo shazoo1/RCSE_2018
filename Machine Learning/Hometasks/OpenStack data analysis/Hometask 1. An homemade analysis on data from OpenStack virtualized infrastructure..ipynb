{
 "cells": [
  {
   "cell_type": "code",
   "execution_count": 4,
   "metadata": {},
   "outputs": [],
   "source": [
    "import matplotlib\n",
    "import matplotlib.pyplot as plot\n",
    "import numpy as np\n",
    "import pandas as pd\n"
   ]
  },
  {
   "cell_type": "code",
   "execution_count": 2,
   "metadata": {
    "scrolled": false
   },
   "outputs": [
    {
     "name": "stderr",
     "output_type": "stream",
     "text": [
      "C:\\Users\\user\\Anaconda3\\lib\\site-packages\\IPython\\core\\interactiveshell.py:2903: DtypeWarning: Columns (4,5,6,10) have mixed types. Specify dtype option on import or set low_memory=False.\n",
      "  if self.run_code(code, result):\n"
     ]
    }
   ],
   "source": [
    "# First, download data from directory\n",
    "\n",
    "# Data taken from https://www.kaggle.com/fsiamp/openstack-virtual-machines\n",
    "\n",
    "import glob\n",
    "\n",
    "df = pd.concat([pd.read_csv(f) for f in glob.glob('openstack-virtual-machines/*.csv')])"
   ]
  },
  {
   "cell_type": "code",
   "execution_count": 4,
   "metadata": {
    "scrolled": true
   },
   "outputs": [
    {
     "data": {
      "text/html": [
       "<div>\n",
       "<style scoped>\n",
       "    .dataframe tbody tr th:only-of-type {\n",
       "        vertical-align: middle;\n",
       "    }\n",
       "\n",
       "    .dataframe tbody tr th {\n",
       "        vertical-align: top;\n",
       "    }\n",
       "\n",
       "    .dataframe thead th {\n",
       "        text-align: right;\n",
       "    }\n",
       "</style>\n",
       "<table border=\"1\" class=\"dataframe\">\n",
       "  <thead>\n",
       "    <tr style=\"text-align: right;\">\n",
       "      <th></th>\n",
       "      <th>vcpus</th>\n",
       "      <th>memory</th>\n",
       "      <th>disk_size</th>\n",
       "      <th>volume_attachments</th>\n",
       "      <th>metadata</th>\n",
       "      <th>server_group</th>\n",
       "      <th>anti_affinity</th>\n",
       "      <th>hyper_threading</th>\n",
       "      <th>ports</th>\n",
       "      <th>networks</th>\n",
       "      <th>config_drive</th>\n",
       "      <th>image_update_policy</th>\n",
       "      <th>flavor_update_policy</th>\n",
       "      <th>disk_config</th>\n",
       "      <th>userdata_update_policy</th>\n",
       "      <th>security_groups</th>\n",
       "    </tr>\n",
       "  </thead>\n",
       "  <tbody>\n",
       "    <tr>\n",
       "      <th>0</th>\n",
       "      <td>6</td>\n",
       "      <td>2</td>\n",
       "      <td>170.0</td>\n",
       "      <td>4.0</td>\n",
       "      <td>False</td>\n",
       "      <td>False</td>\n",
       "      <td>True</td>\n",
       "      <td>1.0</td>\n",
       "      <td>14.0</td>\n",
       "      <td>1.0</td>\n",
       "      <td>False</td>\n",
       "      <td>rebuild_preserve_ephemeral</td>\n",
       "      <td>replace</td>\n",
       "      <td>manual</td>\n",
       "      <td>replace</td>\n",
       "      <td>0.0</td>\n",
       "    </tr>\n",
       "    <tr>\n",
       "      <th>1</th>\n",
       "      <td>4</td>\n",
       "      <td>64</td>\n",
       "      <td>50.0</td>\n",
       "      <td>7.0</td>\n",
       "      <td>True</td>\n",
       "      <td>False</td>\n",
       "      <td>False</td>\n",
       "      <td>0.0</td>\n",
       "      <td>7.0</td>\n",
       "      <td>7.0</td>\n",
       "      <td>False</td>\n",
       "      <td>replace</td>\n",
       "      <td>resize</td>\n",
       "      <td>auto</td>\n",
       "      <td>replace</td>\n",
       "      <td>2.0</td>\n",
       "    </tr>\n",
       "    <tr>\n",
       "      <th>2</th>\n",
       "      <td>8</td>\n",
       "      <td>16</td>\n",
       "      <td>110.0</td>\n",
       "      <td>6.0</td>\n",
       "      <td>True</td>\n",
       "      <td>True</td>\n",
       "      <td>False</td>\n",
       "      <td>1.0</td>\n",
       "      <td>2.0</td>\n",
       "      <td>3.0</td>\n",
       "      <td>False</td>\n",
       "      <td>replace</td>\n",
       "      <td>resize</td>\n",
       "      <td>manual</td>\n",
       "      <td>replace</td>\n",
       "      <td>1.0</td>\n",
       "    </tr>\n",
       "    <tr>\n",
       "      <th>3</th>\n",
       "      <td>4</td>\n",
       "      <td>16</td>\n",
       "      <td>200.0</td>\n",
       "      <td>2.0</td>\n",
       "      <td>False</td>\n",
       "      <td>True</td>\n",
       "      <td>True</td>\n",
       "      <td>0.0</td>\n",
       "      <td>18.0</td>\n",
       "      <td>5.0</td>\n",
       "      <td>False</td>\n",
       "      <td>rebuild</td>\n",
       "      <td>resize</td>\n",
       "      <td>auto</td>\n",
       "      <td>ignore</td>\n",
       "      <td>0.0</td>\n",
       "    </tr>\n",
       "    <tr>\n",
       "      <th>4</th>\n",
       "      <td>4</td>\n",
       "      <td>2</td>\n",
       "      <td>120.0</td>\n",
       "      <td>7.0</td>\n",
       "      <td>False</td>\n",
       "      <td>False</td>\n",
       "      <td>True</td>\n",
       "      <td>0.0</td>\n",
       "      <td>0.0</td>\n",
       "      <td>2.0</td>\n",
       "      <td>False</td>\n",
       "      <td>rebuild_preserve_ephemeral</td>\n",
       "      <td>replace</td>\n",
       "      <td>auto</td>\n",
       "      <td>ignore</td>\n",
       "      <td>4.0</td>\n",
       "    </tr>\n",
       "  </tbody>\n",
       "</table>\n",
       "</div>"
      ],
      "text/plain": [
       "   vcpus   memory   disk_size   volume_attachments  metadata  server_group  \\\n",
       "0      6        2       170.0                  4.0     False         False   \n",
       "1      4       64        50.0                  7.0      True         False   \n",
       "2      8       16       110.0                  6.0      True          True   \n",
       "3      4       16       200.0                  2.0     False          True   \n",
       "4      4        2       120.0                  7.0     False         False   \n",
       "\n",
       "   anti_affinity   hyper_threading   ports   networks  config_drive  \\\n",
       "0           True               1.0    14.0        1.0         False   \n",
       "1          False               0.0     7.0        7.0         False   \n",
       "2          False               1.0     2.0        3.0         False   \n",
       "3           True               0.0    18.0        5.0         False   \n",
       "4           True               0.0     0.0        2.0         False   \n",
       "\n",
       "          image_update_policy  flavor_update_policy  disk_config  \\\n",
       "0  rebuild_preserve_ephemeral               replace       manual   \n",
       "1                     replace                resize         auto   \n",
       "2                     replace                resize       manual   \n",
       "3                     rebuild                resize         auto   \n",
       "4  rebuild_preserve_ephemeral               replace         auto   \n",
       "\n",
       "   userdata_update_policy   security_groups  \n",
       "0                 replace               0.0  \n",
       "1                 replace               2.0  \n",
       "2                 replace               1.0  \n",
       "3                  ignore               0.0  \n",
       "4                  ignore               4.0  "
      ]
     },
     "execution_count": 4,
     "metadata": {},
     "output_type": "execute_result"
    }
   ],
   "source": [
    "# Show some statistics on the data\n",
    "\n",
    "df.head()"
   ]
  },
  {
   "cell_type": "code",
   "execution_count": 5,
   "metadata": {},
   "outputs": [
    {
     "ename": "NameError",
     "evalue": "name 'df' is not defined",
     "traceback": [
      "\u001b[1;31m---------------------------------------------------------------------------\u001b[0m",
      "\u001b[1;31mNameError\u001b[0m                                 Traceback (most recent call last)",
      "\u001b[1;32m<ipython-input-5-ff15e25488f9>\u001b[0m in \u001b[0;36m<module>\u001b[1;34m()\u001b[0m\n\u001b[0;32m      1\u001b[0m \u001b[1;31m# Filter out only vCPU, Memory and Disk Size\u001b[0m\u001b[1;33m\u001b[0m\u001b[1;33m\u001b[0m\u001b[0m\n\u001b[0;32m      2\u001b[0m \u001b[1;33m\u001b[0m\u001b[0m\n\u001b[1;32m----> 3\u001b[1;33m \u001b[0mnew_df\u001b[0m \u001b[1;33m=\u001b[0m \u001b[0mdf\u001b[0m \u001b[1;33m[\u001b[0m\u001b[1;33m[\u001b[0m\u001b[1;34m'vcpus'\u001b[0m\u001b[1;33m,\u001b[0m\u001b[1;34m' memory'\u001b[0m\u001b[1;33m,\u001b[0m \u001b[1;34m' disk_size'\u001b[0m\u001b[1;33m]\u001b[0m\u001b[1;33m]\u001b[0m\u001b[1;33m\u001b[0m\u001b[0m\n\u001b[0m\u001b[0;32m      4\u001b[0m \u001b[1;33m\u001b[0m\u001b[0m\n\u001b[0;32m      5\u001b[0m \u001b[0mnew_df\u001b[0m\u001b[1;33m.\u001b[0m\u001b[0mto_csv\u001b[0m\u001b[1;33m(\u001b[0m\u001b[1;34m'vcpu_mem_disk.csv'\u001b[0m\u001b[1;33m)\u001b[0m\u001b[1;33m\u001b[0m\u001b[0m\n",
      "\u001b[1;31mNameError\u001b[0m: name 'df' is not defined"
     ],
     "output_type": "error"
    }
   ],
   "source": [
    "# Filter out only vCPU, Memory and Disk Size\n",
    "\n",
    "new_df = df [['vcpus',' memory', ' disk_size']]\n",
    "\n",
    "new_df.to_csv('vcpu_mem_disk.csv')"
   ]
  },
  {
   "cell_type": "code",
   "execution_count": 20,
   "metadata": {},
   "outputs": [
    {
     "name": "stderr",
     "output_type": "stream",
     "text": [
      "C:\\Users\\user\\Anaconda3\\lib\\site-packages\\numpy\\lib\\arraysetops.py:472: FutureWarning: elementwise comparison failed; returning scalar instead, but in the future will perform elementwise comparison\n",
      "  mask |= (ar1 == a)\n"
     ]
    }
   ],
   "source": [
    "# Then start the real analysis\n",
    "\n",
    "df = pd.read_csv('vcpu_mem_disk.csv',index_col=0)"
   ]
  },
  {
   "cell_type": "code",
   "execution_count": 27,
   "metadata": {},
   "outputs": [
    {
     "data": {
      "text/plain": [
       "array([[<matplotlib.axes._subplots.AxesSubplot object at 0x000001DE8B478B70>,\n",
       "        <matplotlib.axes._subplots.AxesSubplot object at 0x000001DE8B5725C0>],\n",
       "       [<matplotlib.axes._subplots.AxesSubplot object at 0x000001DE8B594B70>,\n",
       "        <matplotlib.axes._subplots.AxesSubplot object at 0x000001DE8B5C7208>]],\n",
       "      dtype=object)"
      ]
     },
     "execution_count": 27,
     "metadata": {},
     "output_type": "execute_result"
    },
    {
     "data": {
      "image/png": "[encoded data removed]",
      "text/plain": [
       "<Figure size 432x288 with 4 Axes>"
      ]
     },
     "metadata": {},
     "output_type": "display_data"
    }
   ],
   "source": [
    "# Show the distribution between attributes\n",
    "df.hist(bins=30)\n",
    "\n",
    "# As we can see, these data reveals that there some specific groups are used, more frequently."
   ]
  },
  {
   "cell_type": "code",
   "execution_count": 47,
   "metadata": {},
   "outputs": [
    {
     "data": {
      "text/plain": [
       "<matplotlib.axes._subplots.AxesSubplot at 0x1deac1c3a58>"
      ]
     },
     "execution_count": 47,
     "metadata": {},
     "output_type": "execute_result"
    },
    {
     "data": {
      "image/png": "[encoded data removed]",
      "text/plain": [
       "<Figure size 432x288 with 1 Axes>"
      ]
     },
     "metadata": {},
     "output_type": "display_data"
    }
   ],
   "source": [
    "df[:10].plot.pie(y='vcpus')"
   ]
  },
  {
   "cell_type": "code",
   "execution_count": 48,
   "metadata": {},
   "outputs": [],
   "source": [
    "from pandas.plotting import scatter_matrix"
   ]
  },
  {
   "cell_type": "code",
   "execution_count": 50,
   "metadata": {
    "scrolled": true
   },
   "outputs": [
    {
     "data": {
      "text/plain": [
       "array([[<matplotlib.axes._subplots.AxesSubplot object at 0x000001DEBB981080>,\n",
       "        <matplotlib.axes._subplots.AxesSubplot object at 0x000001DEBB9C1C18>,\n",
       "        <matplotlib.axes._subplots.AxesSubplot object at 0x000001DEC1A202B0>],\n",
       "       [<matplotlib.axes._subplots.AxesSubplot object at 0x000001DEC1A47940>,\n",
       "        <matplotlib.axes._subplots.AxesSubplot object at 0x000001DEC1A72FD0>,\n",
       "        <matplotlib.axes._subplots.AxesSubplot object at 0x000001DEC1A7A048>],\n",
       "       [<matplotlib.axes._subplots.AxesSubplot object at 0x000001DEC1AC9D30>,\n",
       "        <matplotlib.axes._subplots.AxesSubplot object at 0x000001DEC1AFB400>,\n",
       "        <matplotlib.axes._subplots.AxesSubplot object at 0x000001DEC1B23A90>]],\n",
       "      dtype=object)"
      ]
     },
     "execution_count": 50,
     "metadata": {},
     "output_type": "execute_result"
    },
    {
     "data": {
      "image/png": "[encoded data removed]",
      "text/plain": [
       "<Figure size 432x288 with 9 Axes>"
      ]
     },
     "metadata": {},
     "output_type": "display_data"
    }
   ],
   "source": [
    "scatter_matrix(df[:30])"
   ]
  },
  {
   "cell_type": "code",
   "execution_count": 51,
   "metadata": {
    "scrolled": true
   },
   "outputs": [
    {
     "data": {
      "text/plain": [
       "<matplotlib.axes._subplots.AxesSubplot at 0x1dec1bd5e48>"
      ]
     },
     "execution_count": 51,
     "metadata": {},
     "output_type": "execute_result"
    },
    {
     "data": {
      "image/png": "[encoded data removed]",
      "text/plain": [
       "<Figure size 432x288 with 1 Axes>"
      ]
     },
     "metadata": {},
     "output_type": "display_data"
    }
   ],
   "source": [
    "df[:30].plot.kde()"
   ]
  },
  {
   "cell_type": "code",
   "execution_count": 65,
   "metadata": {},
   "outputs": [
    {
     "name": "stderr",
     "output_type": "stream",
     "text": [
      "No handles with labels found to put in legend.\n"
     ]
    },
    {
     "name": "stdout",
     "output_type": "stream",
     "text": [
      "Using matplotlib backend: Qt5Agg\n"
     ]
    }
   ],
   "source": [
    "# Plotting our machines in 3D space\n",
    "%matplotlib auto \n",
    "from mpl_toolkits.mplot3d import Axes3D\n",
    "import numpy as np\n",
    "import matplotlib.pyplot as plt\n",
    "\n",
    "test_sample = df[:300]\n",
    "\n",
    "x = test_sample['vcpus']\n",
    "y = test_sample[' memory']\n",
    "z = test_sample[' disk_size']\n",
    "\n",
    "\n",
    "fig = plt.figure()\n",
    "ax = fig.gca(projection='3d')\n",
    "\n",
    "\n",
    "ax.scatter(x, y, z)\n",
    "\n",
    "# Make legend, set axes limits and labels\n",
    "ax.legend()\n",
    "\n",
    "ax.set_xlabel('vCPU')\n",
    "ax.set_ylabel('vMemory')\n",
    "ax.set_zlabel('Disk Size')\n",
    "\n",
    "\n",
    "# Customize the view angle so it's easier to see that the scatter points lie\n",
    "# on the plane y=0\n",
    "ax.view_init(elev=20., azim=-35)\n",
    "\n",
    "plt.show()\n"
   ]
  }
 ],
 "metadata": {
  "kernelspec": {
   "display_name": "Python 3",
   "language": "python",
   "name": "python3"
  },
  "language_info": {
   "codemirror_mode": {
    "name": "ipython",
    "version": 3
   },
   "file_extension": ".py",
   "mimetype": "text/x-python",
   "name": "python",
   "nbconvert_exporter": "python",
   "pygments_lexer": "ipython3",
   "version": "3.6.5"
  }
 },
 "nbformat": 4,
 "nbformat_minor": 2
}
