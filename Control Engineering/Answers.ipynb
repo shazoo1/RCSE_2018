{
 "cells": [
  {
   "cell_type": "markdown",
   "metadata": {},
   "source": [
    "## Laplace original signal property is \n",
    "\n",
    "![%D0%B8%D0%B7%D0%BE%D0%B1%D1%80%D0%B0%D0%B6%D0%B5%D0%BD%D0%B8%D0%B5.png](attachment:%D0%B8%D0%B7%D0%BE%D0%B1%D1%80%D0%B0%D0%B6%D0%B5%D0%BD%D0%B8%D0%B5.png)"
   ]
  },
  {
   "cell_type": "markdown",
   "metadata": {},
   "source": [
    "## Laplace transformed signal offset property is \n",
    "\n",
    "![%D0%B8%D0%B7%D0%BE%D0%B1%D1%80%D0%B0%D0%B6%D0%B5%D0%BD%D0%B8%D0%B5.png](attachment:%D0%B8%D0%B7%D0%BE%D0%B1%D1%80%D0%B0%D0%B6%D0%B5%D0%BD%D0%B8%D0%B5.png)"
   ]
  },
  {
   "cell_type": "markdown",
   "metadata": {},
   "source": [
    "## Laplace scaling property is\n",
    "\n",
    "![%D0%B8%D0%B7%D0%BE%D0%B1%D1%80%D0%B0%D0%B6%D0%B5%D0%BD%D0%B8%D0%B5.png](attachment:%D0%B8%D0%B7%D0%BE%D0%B1%D1%80%D0%B0%D0%B6%D0%B5%D0%BD%D0%B8%D0%B5.png)"
   ]
  },
  {
   "cell_type": "markdown",
   "metadata": {},
   "source": [
    "## According to Hurwitz criteria control system is stable only if \n",
    "\n",
    "all diagonal minors of the main determinants must have the same sign as the sign of coefficient $a_0$"
   ]
  },
  {
   "cell_type": "markdown",
   "metadata": {},
   "source": [
    "## Algebraic stability criteria are\n",
    "\n",
    "Routh criteria  \n",
    "Hurwitz criteria  \n",
    "Lyenar-Shipar criteria"
   ]
  },
  {
   "cell_type": "markdown",
   "metadata": {},
   "source": [
    "## Lyenar-Shipar criteria is used for stability analysis of"
   ]
  },
  {
   "cell_type": "markdown",
   "metadata": {},
   "source": [
    "## Frequency stability criteria are\n",
    "\n",
    "Nuquist criteria  \n",
    "Mikhailov criteria  "
   ]
  },
  {
   "cell_type": "markdown",
   "metadata": {},
   "source": [
    "## According to Mikhailov criteria control system is stable only if \n",
    "\n",
    "that Mikhailov curve starts from positive real semi-axis, runs consequently through $n$ quadrants ($n$ is a degree of characteristic equation)  and goes to infinity in the $n$-th quadrant."
   ]
  },
  {
   "cell_type": "markdown",
   "metadata": {},
   "source": [
    "## Nyquist criteria is used for stablity analysis of\n",
    "\n",
    "closed loop system"
   ]
  },
  {
   "cell_type": "markdown",
   "metadata": {},
   "source": [
    "## For linear automatic control system stability it is necessary, but not appropriate \n",
    "\n",
    "that charachteristic coefficient must have same signs"
   ]
  },
  {
   "cell_type": "markdown",
   "metadata": {},
   "source": [
    "## Typical dynamic element with transfer function $K/(T^2s^2 + 2kTs+1)$ is\n",
    "\n",
    "oscillating"
   ]
  },
  {
   "cell_type": "markdown",
   "metadata": {},
   "source": [
    "## Typical dynamic element with aplitude frequency function $A(P)=K*sqrt(1+T^2p^2)$ is\n",
    "\n",
    "Aperiodic element"
   ]
  },
  {
   "cell_type": "markdown",
   "metadata": {},
   "source": [
    "## Logarithmic amplitude frequency responce L(w) can be obtained from amplitude frequency response A(p) as follows:\n",
    "\n",
    "20lg(A(p))"
   ]
  },
  {
   "cell_type": "markdown",
   "metadata": {},
   "source": [
    "## If frequency fluctuates from zero to infonity logarithmic amplitude frequency response L(p) of differentiating element \n",
    "\n",
    "increase by 20db/dec"
   ]
  },
  {
   "cell_type": "markdown",
   "metadata": {},
   "source": [
    "## Typical dynamic element with transfer function K/s is\n",
    "\n",
    "integrating"
   ]
  },
  {
   "cell_type": "markdown",
   "metadata": {},
   "source": [
    "## Typical dynamic element with imaginary frequency function V(p)=KpT is\n",
    "\n",
    "First-order lead"
   ]
  },
  {
   "cell_type": "markdown",
   "metadata": {},
   "source": [
    "## Transfer function h(t)=K(1-e^(-1/t)) belongs to the element\n",
    "\n",
    "Aperiodic element"
   ]
  },
  {
   "cell_type": "markdown",
   "metadata": {},
   "source": [
    "## Typical dynamic element with transfer function $K/(T^2s^2 +2kTs+1$\n",
    "\n",
    "oscillating"
   ]
  },
  {
   "cell_type": "markdown",
   "metadata": {},
   "source": [
    "## Typical dynamic element with amplitude frequency function $A(p)=K/p$\n",
    "\n",
    "Integrating"
   ]
  },
  {
   "cell_type": "markdown",
   "metadata": {},
   "source": [
    "## The ratio of two contiguous derivations from set limit absolute values is called\n",
    "\n",
    "damping ratio"
   ]
  },
  {
   "cell_type": "markdown",
   "metadata": {},
   "source": [
    "## The time moment, when transient response reaches set value for the first time, is called \n",
    "\n",
    "step response time"
   ]
  },
  {
   "cell_type": "markdown",
   "metadata": {},
   "source": [
    "## Maximal derivation of transient response from set limit, expressed as a percentage is called\n",
    "\n",
    "over-regulation"
   ]
  },
  {
   "cell_type": "markdown",
   "metadata": {},
   "source": [
    "## Transfer function denominator is determined by\n",
    "\n",
    "simple paths subgraphs determinants"
   ]
  },
  {
   "cell_type": "markdown",
   "metadata": {},
   "source": [
    "## Automatic control system structure chart consists of\n",
    "\n",
    "Nodes  \n",
    "Summators"
   ]
  },
  {
   "cell_type": "markdown",
   "metadata": {},
   "source": [
    "## Open loop control strategy is\n",
    "\n",
    "control decision depends on controlling organ state "
   ]
  },
  {
   "cell_type": "markdown",
   "metadata": {},
   "source": [
    "1. Divine the systemd into elements\n",
    "2. Determine physical laws of each element\n",
    "3. Produce mathematical equations for physical laws\n",
    "4. Make linearization of nonlinear dependencies\n",
    "5. Get dimensionless dependencies"
   ]
  },
  {
   "cell_type": "markdown",
   "metadata": {},
   "source": [
    "Control process is The set of control operations"
   ]
  },
  {
   "cell_type": "markdown",
   "metadata": {},
   "source": [
    "Servosystems is control system with output variable value depends on unknown input value"
   ]
  },
  {
   "cell_type": "markdown",
   "metadata": {},
   "source": [
    "Stationary control system is control system with constat parameters"
   ]
  },
  {
   "cell_type": "markdown",
   "metadata": {},
   "source": [
    "Fundamental control strategies are:\n",
    "\n",
    "1. Compensation strategy\n",
    "2. Open loop control strategy\n",
    "3. Feedback strategy"
   ]
  },
  {
   "cell_type": "markdown",
   "metadata": {},
   "source": [
    "Compensation strategy is control decision depends on pertrubations"
   ]
  },
  {
   "cell_type": "markdown",
   "metadata": {},
   "source": [
    "Control action is controlling organ action on controlled object to bring it to the required state"
   ]
  }
 ],
 "metadata": {
  "kernelspec": {
   "display_name": "Python 3",
   "language": "python",
   "name": "python3"
  },
  "language_info": {
   "codemirror_mode": {
    "name": "ipython",
    "version": 3
   },
   "file_extension": ".py",
   "mimetype": "text/x-python",
   "name": "python",
   "nbconvert_exporter": "python",
   "pygments_lexer": "ipython3",
   "version": "3.6.5"
  }
 },
 "nbformat": 4,
 "nbformat_minor": 2
}
